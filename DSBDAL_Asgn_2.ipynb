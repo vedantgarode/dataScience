{
 "cells": [
  {
   "cell_type": "code",
   "execution_count": 34,
   "id": "a6ab5a0c-dabc-4748-8433-fa4c1a208f44",
   "metadata": {},
   "outputs": [
    {
     "data": {
      "text/html": [
       "<div>\n",
       "<style scoped>\n",
       "    .dataframe tbody tr th:only-of-type {\n",
       "        vertical-align: middle;\n",
       "    }\n",
       "\n",
       "    .dataframe tbody tr th {\n",
       "        vertical-align: top;\n",
       "    }\n",
       "\n",
       "    .dataframe thead th {\n",
       "        text-align: right;\n",
       "    }\n",
       "</style>\n",
       "<table border=\"1\" class=\"dataframe\">\n",
       "  <thead>\n",
       "    <tr style=\"text-align: right;\">\n",
       "      <th></th>\n",
       "      <th>math score</th>\n",
       "      <th>reading score</th>\n",
       "      <th>writing score</th>\n",
       "    </tr>\n",
       "  </thead>\n",
       "  <tbody>\n",
       "    <tr>\n",
       "      <th>0</th>\n",
       "      <td>72</td>\n",
       "      <td>72</td>\n",
       "      <td>74</td>\n",
       "    </tr>\n",
       "    <tr>\n",
       "      <th>1</th>\n",
       "      <td>69</td>\n",
       "      <td>90</td>\n",
       "      <td>88</td>\n",
       "    </tr>\n",
       "    <tr>\n",
       "      <th>2</th>\n",
       "      <td>90</td>\n",
       "      <td>95</td>\n",
       "      <td>93</td>\n",
       "    </tr>\n",
       "    <tr>\n",
       "      <th>3</th>\n",
       "      <td>47</td>\n",
       "      <td>57</td>\n",
       "      <td>44</td>\n",
       "    </tr>\n",
       "    <tr>\n",
       "      <th>4</th>\n",
       "      <td>76</td>\n",
       "      <td>78</td>\n",
       "      <td>75</td>\n",
       "    </tr>\n",
       "  </tbody>\n",
       "</table>\n",
       "</div>"
      ],
      "text/plain": [
       "   math score  reading score  writing score\n",
       "0          72             72             74\n",
       "1          69             90             88\n",
       "2          90             95             93\n",
       "3          47             57             44\n",
       "4          76             78             75"
      ]
     },
     "execution_count": 34,
     "metadata": {},
     "output_type": "execute_result"
    }
   ],
   "source": [
    "import pandas as pd\n",
    "import numpy as np\n",
    "\n",
    "df = pd.read_csv('StudentsPerformance.csv')\n",
    "\n",
    "df.head()\n"
   ]
  },
  {
   "cell_type": "code",
   "execution_count": 30,
   "id": "54aaa4ca-1fa5-47c6-8e02-689236d0c15c",
   "metadata": {},
   "outputs": [
    {
     "data": {
      "text/html": [
       "<div>\n",
       "<style scoped>\n",
       "    .dataframe tbody tr th:only-of-type {\n",
       "        vertical-align: middle;\n",
       "    }\n",
       "\n",
       "    .dataframe tbody tr th {\n",
       "        vertical-align: top;\n",
       "    }\n",
       "\n",
       "    .dataframe thead th {\n",
       "        text-align: right;\n",
       "    }\n",
       "</style>\n",
       "<table border=\"1\" class=\"dataframe\">\n",
       "  <thead>\n",
       "    <tr style=\"text-align: right;\">\n",
       "      <th></th>\n",
       "      <th>math score</th>\n",
       "      <th>reading score</th>\n",
       "      <th>writing score</th>\n",
       "    </tr>\n",
       "  </thead>\n",
       "  <tbody>\n",
       "    <tr>\n",
       "      <th>0</th>\n",
       "      <td>False</td>\n",
       "      <td>False</td>\n",
       "      <td>False</td>\n",
       "    </tr>\n",
       "    <tr>\n",
       "      <th>1</th>\n",
       "      <td>False</td>\n",
       "      <td>False</td>\n",
       "      <td>False</td>\n",
       "    </tr>\n",
       "    <tr>\n",
       "      <th>2</th>\n",
       "      <td>False</td>\n",
       "      <td>False</td>\n",
       "      <td>False</td>\n",
       "    </tr>\n",
       "    <tr>\n",
       "      <th>3</th>\n",
       "      <td>False</td>\n",
       "      <td>False</td>\n",
       "      <td>False</td>\n",
       "    </tr>\n",
       "    <tr>\n",
       "      <th>4</th>\n",
       "      <td>False</td>\n",
       "      <td>False</td>\n",
       "      <td>False</td>\n",
       "    </tr>\n",
       "    <tr>\n",
       "      <th>...</th>\n",
       "      <td>...</td>\n",
       "      <td>...</td>\n",
       "      <td>...</td>\n",
       "    </tr>\n",
       "    <tr>\n",
       "      <th>995</th>\n",
       "      <td>False</td>\n",
       "      <td>False</td>\n",
       "      <td>False</td>\n",
       "    </tr>\n",
       "    <tr>\n",
       "      <th>996</th>\n",
       "      <td>False</td>\n",
       "      <td>False</td>\n",
       "      <td>False</td>\n",
       "    </tr>\n",
       "    <tr>\n",
       "      <th>997</th>\n",
       "      <td>False</td>\n",
       "      <td>False</td>\n",
       "      <td>False</td>\n",
       "    </tr>\n",
       "    <tr>\n",
       "      <th>998</th>\n",
       "      <td>False</td>\n",
       "      <td>False</td>\n",
       "      <td>False</td>\n",
       "    </tr>\n",
       "    <tr>\n",
       "      <th>999</th>\n",
       "      <td>False</td>\n",
       "      <td>False</td>\n",
       "      <td>False</td>\n",
       "    </tr>\n",
       "  </tbody>\n",
       "</table>\n",
       "<p>1000 rows × 3 columns</p>\n",
       "</div>"
      ],
      "text/plain": [
       "     math score  reading score  writing score\n",
       "0         False          False          False\n",
       "1         False          False          False\n",
       "2         False          False          False\n",
       "3         False          False          False\n",
       "4         False          False          False\n",
       "..          ...            ...            ...\n",
       "995       False          False          False\n",
       "996       False          False          False\n",
       "997       False          False          False\n",
       "998       False          False          False\n",
       "999       False          False          False\n",
       "\n",
       "[1000 rows x 3 columns]"
      ]
     },
     "execution_count": 30,
     "metadata": {},
     "output_type": "execute_result"
    }
   ],
   "source": [
    "df.isnull()"
   ]
  },
  {
   "cell_type": "code",
   "execution_count": 36,
   "id": "4e6bdd37-9fa7-4040-ad53-9b9b27d68a68",
   "metadata": {},
   "outputs": [
    {
     "data": {
      "text/plain": [
       "<AxesSubplot:>"
      ]
     },
     "execution_count": 36,
     "metadata": {},
     "output_type": "execute_result"
    },
    {
     "data": {
      "image/png": "[encoded data removed]",
      "text/plain": [
       "<Figure size 640x480 with 1 Axes>"
      ]
     },
     "metadata": {},
     "output_type": "display_data"
    }
   ],
   "source": [
    "df.boxplot()"
   ]
  },
  {
   "cell_type": "code",
   "execution_count": null,
   "id": "53d3ed04-7c41-4386-aa0a-a902665d065b",
   "metadata": {},
   "outputs": [],
   "source": [
    "#Visually identifying Outlier"
   ]
  },
  {
   "cell_type": "code",
   "execution_count": 39,
   "id": "accd9178-9d68-4fca-9e0c-18bbccfa6488",
   "metadata": {},
   "outputs": [
    {
     "name": "stdout",
     "output_type": "stream",
     "text": [
      "\n",
      " Index of Outliers for Math Score\n",
      "\n",
      " (array([ 17,  59, 787, 980], dtype=int64),)\n",
      "\n",
      "\n",
      "Index of Outliers for Reading Score\n",
      "\n",
      " (array([59], dtype=int64),)\n",
      "\n",
      "\n",
      "Index of Outliers for Writing Score\n",
      "\n",
      " (array([ 59, 327, 596], dtype=int64),)\n"
     ]
    }
   ],
   "source": [
    "print(\"\\n Index of Outliers for Math Score\\n\\n\", np.where(df['math score']<22))\n",
    "print(\"\\n\\nIndex of Outliers for Reading Score\\n\\n\", np.where(df['reading score']<23))\n",
    "print(\"\\n\\nIndex of Outliers for Writing Score\\n\\n\", np.where(df['writing score']<22))"
   ]
  },
  {
   "cell_type": "code",
   "execution_count": 45,
   "id": "d0535790-303c-46f4-b2fb-8f22e7aa2a41",
   "metadata": {},
   "outputs": [
    {
     "name": "stdout",
     "output_type": "stream",
     "text": [
      "\n",
      "Marks Out of 100\n",
      "\n",
      "      math score  reading score  writing score\n",
      "0            72             72             74\n",
      "1            69             90             88\n",
      "2            90             95             93\n",
      "3            47             57             44\n",
      "4            76             78             75\n",
      "..          ...            ...            ...\n",
      "995          88             99             95\n",
      "996          62             55             55\n",
      "997          59             71             65\n",
      "998          68             78             77\n",
      "999          77             86             86\n",
      "\n",
      "[1000 rows x 3 columns]\n",
      "\n",
      "Marks Out of 10\n",
      "\n",
      "      math score  reading score  writing score\n",
      "0           7.2       6.626506       7.111111\n",
      "1           6.9       8.795181       8.666667\n",
      "2           9.0       9.397590       9.222222\n",
      "3           4.7       4.819277       3.777778\n",
      "4           7.6       7.349398       7.222222\n",
      "..          ...            ...            ...\n",
      "995         8.8       9.879518       9.444444\n",
      "996         6.2       4.578313       5.000000\n",
      "997         5.9       6.506024       6.111111\n",
      "998         6.8       7.349398       7.444444\n",
      "999         7.7       8.313253       8.444444\n",
      "\n",
      "[1000 rows x 3 columns]\n"
     ]
    }
   ],
   "source": [
    "# Tranforming\n",
    "from sklearn.preprocessing import MinMaxScaler\n",
    "\n",
    "scaler = MinMaxScaler(feature_range=(0,10))\n",
    "#for coverting marks out of 100 to out of 10\n",
    "\n",
    "df_scaled = df.copy()\n",
    "col_names = ['math score','reading score', 'writing score']\n",
    "features = df_scaled[col_names]\n",
    "\n",
    "df_scaled[col_names]= scaler.fit_transform(features.values)\n",
    "print(\"\\nMarks Out of 100\\n\\n\",df)\n",
    "print(\"\\nMarks Out of 10\\n\\n\",df_scaled)\n",
    "                      "
   ]
  },
  {
   "cell_type": "code",
   "execution_count": null,
   "id": "43c054a1-ee56-4adc-a037-33eb6f8215fb",
   "metadata": {},
   "outputs": [],
   "source": []
  }
 ],
 "metadata": {
  "kernelspec": {
   "display_name": "Python 3 (ipykernel)",
   "language": "python",
   "name": "python3"
  },
  "language_info": {
   "codemirror_mode": {
    "name": "ipython",
    "version": 3
   },
   "file_extension": ".py",
   "mimetype": "text/x-python",
   "name": "python",
   "nbconvert_exporter": "python",
   "pygments_lexer": "ipython3",
   "version": "3.9.7"
  }
 },
 "nbformat": 4,
 "nbformat_minor": 5
}
