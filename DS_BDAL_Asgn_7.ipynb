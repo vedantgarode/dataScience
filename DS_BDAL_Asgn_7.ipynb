{
 "cells": [
  {
   "cell_type": "markdown",
   "metadata": {
    "id": "VVo7dsV1pY1d"
   },
   "source": [
    "**Text Analytics**"
   ]
  },
  {
   "cell_type": "markdown",
   "metadata": {
    "id": "xdwLXbKkpcKr"
   },
   "source": [
    "Tokenization"
   ]
  },
  {
   "cell_type": "code",
   "execution_count": null,
   "metadata": {
    "colab": {
     "base_uri": "https://localhost:8080/"
    },
    "id": "pL8vNbVaprzk",
    "outputId": "7207d39f-b798-487c-e19a-bb8dcbbc2bf3"
   },
   "outputs": [
    {
     "name": "stdout",
     "output_type": "stream",
     "text": [
      "[nltk_data] Downloading package punkt to /root/nltk_data...\n",
      "[nltk_data]   Package punkt is already up-to-date!\n"
     ]
    },
    {
     "data": {
      "text/plain": [
       "True"
      ]
     },
     "execution_count": 59,
     "metadata": {},
     "output_type": "execute_result"
    }
   ],
   "source": [
    "import nltk\n",
    "nltk.download('punkt')"
   ]
  },
  {
   "cell_type": "code",
   "execution_count": null,
   "metadata": {
    "colab": {
     "base_uri": "https://localhost:8080/"
    },
    "id": "UnZHxhUHCuyN",
    "outputId": "d499e82c-6cc2-4b5e-8f08-60b5c3126b45"
   },
   "outputs": [
    {
     "name": "stdout",
     "output_type": "stream",
     "text": [
      "Word Tokenize: ['The', 'cookies', 'were', 'baked', 'fresh', 'this', 'morning', '.', 'They', 'smell', 'nice', '.']\n",
      "Sentence Tokenize: ['The cookies were baked fresh this morning.', 'They smell nice.']\n"
     ]
    }
   ],
   "source": [
    "from nltk import word_tokenize, sent_tokenize\n",
    "sent = \"The cookies were baked fresh this morning. They smell nice.\"\n",
    "print(\"Word Tokenize:\", word_tokenize(sent))\n",
    "print(\"Sentence Tokenize:\", sent_tokenize(sent))"
   ]
  },
  {
   "cell_type": "markdown",
   "metadata": {
    "id": "CJcf88uBqcbu"
   },
   "source": [
    "POS Tagging"
   ]
  },
  {
   "cell_type": "code",
   "execution_count": null,
   "metadata": {
    "colab": {
     "base_uri": "https://localhost:8080/"
    },
    "id": "pIdrCCj2q4dC",
    "outputId": "57e328ed-044f-4e2e-dd88-bb9f3442b11b"
   },
   "outputs": [
    {
     "name": "stdout",
     "output_type": "stream",
     "text": [
      "[nltk_data] Downloading package averaged_perceptron_tagger to\n",
      "[nltk_data]     /root/nltk_data...\n",
      "[nltk_data]   Package averaged_perceptron_tagger is already up-to-\n",
      "[nltk_data]       date!\n"
     ]
    },
    {
     "data": {
      "text/plain": [
       "True"
      ]
     },
     "execution_count": 61,
     "metadata": {},
     "output_type": "execute_result"
    }
   ],
   "source": [
    "import nltk\n",
    "nltk.download('averaged_perceptron_tagger')"
   ]
  },
  {
   "cell_type": "code",
   "execution_count": null,
   "metadata": {
    "colab": {
     "base_uri": "https://localhost:8080/"
    },
    "id": "NfEoDyi9qeO8",
    "outputId": "37079d00-ac9f-44dd-c9b4-cdd19775510e"
   },
   "outputs": [
    {
     "name": "stdout",
     "output_type": "stream",
     "text": [
      "POS Tagged:  [('The', 'DT'), ('cookies', 'NNS'), ('were', 'VBD'), ('baked', 'VBN'), ('fresh', 'JJ'), ('this', 'DT'), ('morning', 'NN'), ('.', '.'), ('They', 'PRP'), ('smell', 'VBP'), ('nice', 'RB'), ('.', '.')]\n"
     ]
    }
   ],
   "source": [
    "from nltk import pos_tag \n",
    "token = word_tokenize(sent)\n",
    "tagged = pos_tag(token)                 \n",
    "print(\"POS Tagged: \", tagged)"
   ]
  },
  {
   "cell_type": "markdown",
   "metadata": {
    "id": "sAiSO5SNrEpw"
   },
   "source": [
    "Stop Words Removal"
   ]
  },
  {
   "cell_type": "code",
   "execution_count": null,
   "metadata": {
    "colab": {
     "base_uri": "https://localhost:8080/"
    },
    "id": "ScwjqjhBrlPx",
    "outputId": "4432904c-c58b-4b43-adf0-7c873a2c86fd"
   },
   "outputs": [
    {
     "name": "stdout",
     "output_type": "stream",
     "text": [
      "[nltk_data] Downloading package stopwords to /root/nltk_data...\n",
      "[nltk_data]   Package stopwords is already up-to-date!\n"
     ]
    },
    {
     "data": {
      "text/plain": [
       "True"
      ]
     },
     "execution_count": 63,
     "metadata": {},
     "output_type": "execute_result"
    }
   ],
   "source": [
    "  import nltk\n",
    "  nltk.download('stopwords')"
   ]
  },
  {
   "cell_type": "code",
   "execution_count": null,
   "metadata": {
    "colab": {
     "base_uri": "https://localhost:8080/"
    },
    "id": "wzfcTiN2rHg3",
    "outputId": "6f848aba-595e-4c81-eeec-0584ee6b75e0"
   },
   "outputs": [
    {
     "name": "stdout",
     "output_type": "stream",
     "text": [
      "Before:  ['The', 'cookies', 'were', 'baked', 'fresh', 'this', 'morning', '.', 'They', 'smell', 'nice', '.']\n",
      "After:  ['The', 'cookies', 'baked', 'fresh', 'morning', '.', 'They', 'smell', 'nice', '.']\n"
     ]
    }
   ],
   "source": [
    "from nltk.corpus import stopwords\n",
    "stop_words = stopwords.words('english')\n",
    "token = word_tokenize(sent)\n",
    "cleaned_token = []\n",
    "for word in token:\n",
    "    if word not in stop_words:\n",
    "        cleaned_token.append(word)\n",
    "print(\"Before: \", token)\n",
    "print(\"After: \", cleaned_token)"
   ]
  },
  {
   "cell_type": "markdown",
   "metadata": {
    "id": "FgM2rcFdsLX5"
   },
   "source": [
    "Stemming"
   ]
  },
  {
   "cell_type": "code",
   "execution_count": null,
   "metadata": {
    "colab": {
     "base_uri": "https://localhost:8080/"
    },
    "id": "brTiB_tfsNkt",
    "outputId": "0655654e-01fb-44f6-eec8-65b509006a0e"
   },
   "outputs": [
    {
     "name": "stdout",
     "output_type": "stream",
     "text": [
      "Before Stemming:  ['The', 'cookies', 'were', 'baked', 'fresh', 'this', 'morning', '.', 'They', 'smell', 'nice', '.']\n",
      "After Stemming:  ['the', 'cooki', 'were', 'bake', 'fresh', 'thi', 'morn', '.', 'they', 'smell', 'nice', '.']\n"
     ]
    }
   ],
   "source": [
    "from nltk.stem import PorterStemmer\n",
    "stemmer = PorterStemmer()\n",
    "words = token\n",
    "stemmed = [stemmer.stem(word) for word in words]\n",
    "print(\"Before Stemming: \", words)\n",
    "print(\"After Stemming: \", stemmed)"
   ]
  },
  {
   "cell_type": "markdown",
   "metadata": {
    "id": "c9urX_ZVsZCu"
   },
   "source": [
    "Lematization"
   ]
  },
  {
   "cell_type": "code",
   "execution_count": null,
   "metadata": {
    "colab": {
     "base_uri": "https://localhost:8080/"
    },
    "id": "jmLAiZnyt1VQ",
    "outputId": "d1c66fb4-a048-4f24-e05a-90d554487a7a"
   },
   "outputs": [
    {
     "name": "stdout",
     "output_type": "stream",
     "text": [
      "[nltk_data] Downloading package wordnet to /root/nltk_data...\n",
      "[nltk_data]   Package wordnet is already up-to-date!\n"
     ]
    },
    {
     "data": {
      "text/plain": [
       "True"
      ]
     },
     "execution_count": 66,
     "metadata": {},
     "output_type": "execute_result"
    }
   ],
   "source": [
    "import nltk\n",
    "nltk.download('wordnet')"
   ]
  },
  {
   "cell_type": "code",
   "execution_count": null,
   "metadata": {
    "colab": {
     "base_uri": "https://localhost:8080/"
    },
    "id": "YcvnqZ5msazh",
    "outputId": "0fb082d6-6379-4749-ff5d-8883b2b49a05"
   },
   "outputs": [
    {
     "name": "stdout",
     "output_type": "stream",
     "text": [
      "Before Lemmatizing:  ['The', 'cookies', 'were', 'baked', 'fresh', 'this', 'morning', '.', 'They', 'smell', 'nice', '.']\n",
      "After Lemmatizing:  ['The', 'cookies', 'be', 'bake', 'fresh', 'this', 'morning', '.', 'They', 'smell', 'nice', '.']\n"
     ]
    }
   ],
   "source": [
    "from nltk.stem import LancasterStemmer, WordNetLemmatizer\n",
    "\n",
    "lemma = WordNetLemmatizer()\n",
    "lemmas = []\n",
    "for i in token:\n",
    "  lem = lemma.lemmatize(i, pos='v')\n",
    "  lemmas.append(lem)\n",
    "\n",
    "print(\"Before Lemmatizing: \", token)\n",
    "print(\"After Lemmatizing: \", lemmas )\n",
    "\n"
   ]
  },
  {
   "cell_type": "code",
   "execution_count": null,
   "metadata": {
    "colab": {
     "base_uri": "https://localhost:8080/"
    },
    "id": "-hN73FUAzEIl",
    "outputId": "bc576e42-ca25-4430-bdb9-6ea52aaca5b1"
   },
   "outputs": [
    {
     "name": "stdout",
     "output_type": "stream",
     "text": [
      "Vocabulary: \n"
     ]
    },
    {
     "data": {
      "text/plain": [
       "{'baked': 0,\n",
       " 'cookies': 1,\n",
       " 'fresh': 2,\n",
       " 'morning': 3,\n",
       " 'nice': 4,\n",
       " 'smell': 5,\n",
       " 'the': 6,\n",
       " 'they': 7,\n",
       " 'this': 8,\n",
       " 'were': 9}"
      ]
     },
     "execution_count": 68,
     "metadata": {},
     "output_type": "execute_result"
    }
   ],
   "source": [
    "from sklearn.feature_extraction.text import TfidfVectorizer\n",
    "\n",
    "tfidf = TfidfVectorizer()\n",
    "doc_1 = \"The cookies were baked fresh this morning.\"\n",
    "doc_2 = \"They smell nice.\"\n",
    "\n",
    "response = tfidf.fit_transform([doc_1, doc_2])\n",
    "\n",
    "print(\"Vocabulary: \")\n",
    "tfidf.vocabulary_"
   ]
  },
  {
   "cell_type": "code",
   "execution_count": null,
   "metadata": {
    "colab": {
     "base_uri": "https://localhost:8080/"
    },
    "id": "_w0kxxKEzu13",
    "outputId": "6d887355-26b0-4d64-f7a6-17bccaa8bb52"
   },
   "outputs": [
    {
     "name": "stdout",
     "output_type": "stream",
     "text": [
      "  (0, 3)\t0.3779644730092272\n",
      "  (0, 8)\t0.3779644730092272\n",
      "  (0, 2)\t0.3779644730092272\n",
      "  (0, 0)\t0.3779644730092272\n",
      "  (0, 9)\t0.3779644730092272\n",
      "  (0, 1)\t0.3779644730092272\n",
      "  (0, 6)\t0.3779644730092272\n",
      "  (1, 4)\t0.5773502691896257\n",
      "  (1, 5)\t0.5773502691896257\n",
      "  (1, 7)\t0.5773502691896257\n"
     ]
    }
   ],
   "source": [
    "print(response)"
   ]
  },
  {
   "cell_type": "code",
   "execution_count": null,
   "metadata": {
    "colab": {
     "base_uri": "https://localhost:8080/"
    },
    "id": "E3SsWKyjz8Zw",
    "outputId": "3431865d-8bc8-4cde-a8ce-fd41dfa1b7d3"
   },
   "outputs": [
    {
     "name": "stdout",
     "output_type": "stream",
     "text": [
      "morning  -  0.3779644730092272\n",
      "this  -  0.3779644730092272\n",
      "fresh  -  0.3779644730092272\n",
      "baked  -  0.3779644730092272\n",
      "were  -  0.3779644730092272\n",
      "cookies  -  0.3779644730092272\n",
      "the  -  0.3779644730092272\n",
      "nice  -  0.0\n",
      "smell  -  0.0\n",
      "they  -  0.0\n"
     ]
    },
    {
     "name": "stderr",
     "output_type": "stream",
     "text": [
      "/usr/local/lib/python3.7/dist-packages/sklearn/utils/deprecation.py:87: FutureWarning: Function get_feature_names is deprecated; get_feature_names is deprecated in 1.0 and will be removed in 1.2. Please use get_feature_names_out instead.\n",
      "  warnings.warn(msg, category=FutureWarning)\n"
     ]
    }
   ],
   "source": [
    "feature_names = tfidf.get_feature_names()\n",
    "for col in response.nonzero()[1]:\n",
    "  print(feature_names[col], ' - ', response[0, col])"
   ]
  }
 ],
 "metadata": {
  "colab": {
   "collapsed_sections": [],
   "name": "DS&BDAL Asgn-7 (TCOA08 K.Abhishek).ipynb",
   "provenance": []
  },
  "kernelspec": {
   "display_name": "Python 3 (ipykernel)",
   "language": "python",
   "name": "python3"
  },
  "language_info": {
   "codemirror_mode": {
    "name": "ipython",
    "version": 3
   },
   "file_extension": ".py",
   "mimetype": "text/x-python",
   "name": "python",
   "nbconvert_exporter": "python",
   "pygments_lexer": "ipython3",
   "version": "3.9.7"
  }
 },
 "nbformat": 4,
 "nbformat_minor": 1
}
